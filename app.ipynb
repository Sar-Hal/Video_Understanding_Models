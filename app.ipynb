{
 "cells": [
  {
   "cell_type": "code",
   "execution_count": 1,
   "id": "722e2ed8",
   "metadata": {},
   "outputs": [],
   "source": [
    "import os\n",
    "from dotenv import load_dotenv\n",
    "from google import genai\n",
    "from google.genai import types\n",
    "import json\n",
    "from PIL import Image\n",
    "from IPython.display import display, Markdown, HTML\n",
    "load_dotenv()\n",
    "GEMINI_API_KEY = os.getenv(\"GEMINI_API_KEY\")\n",
    "client = genai.Client(api_key=GEMINI_API_KEY)"
   ]
  },
  {
   "cell_type": "code",
   "execution_count": 2,
   "id": "1e19e0aa",
   "metadata": {},
   "outputs": [],
   "source": [
    "MODEL_ID = \"gemini-2.5-flash\" # @param [\"gemini-2.5-flash\", \"gemini-2.5-pro\",\"gemini-2.0-flash\",\"gemini-2.5-flash-lite-preview-06-17\"] {\"allow-input\":true, isTemplate: true}"
   ]
  },
  {
   "cell_type": "code",
   "execution_count": 3,
   "id": "94201d3f",
   "metadata": {},
   "outputs": [
    {
     "name": "stdout",
     "output_type": "stream",
     "text": [
      "Waiting for video to be processed.\n",
      "Video processing complete: https://generativelanguage.googleapis.com/v1beta/files/cz5zr8a6ai1m\n"
     ]
    }
   ],
   "source": [
    "import time\n",
    "\n",
    "def upload_video(video_file_name):\n",
    "  video_file = client.files.upload(file=video_file_name)\n",
    "\n",
    "  while video_file.state == \"PROCESSING\":\n",
    "      print('Waiting for video to be processed.')\n",
    "      time.sleep(10)\n",
    "      video_file = client.files.get(name=video_file.name)\n",
    "\n",
    "  if video_file.state == \"FAILED\":\n",
    "    raise ValueError(video_file.state)\n",
    "  print(f'Video processing complete: ' + video_file.uri)\n",
    "\n",
    "  return video_file\n",
    "\n",
    "pottery_video = upload_video('typing.mp4')"
   ]
  },
  {
   "cell_type": "code",
   "execution_count": 4,
   "id": "f58c57f9",
   "metadata": {},
   "outputs": [
    {
     "data": {
      "text/markdown": [
       "The video shows a keyboard with letters and symbols. As music plays, individual keys on the keyboard light up in green or red, accompanied by a sound effect. The green lights represent correctly pressed keys, while the red ones indicate incorrect presses. Above the keyboard, a graph displays statistics like \"raw,\" \"characters,\" and \"consistency,\" which update as the keys are pressed. The video begins and ends with the full keyboard visible."
      ],
      "text/plain": [
       "<IPython.core.display.Markdown object>"
      ]
     },
     "execution_count": 4,
     "metadata": {},
     "output_type": "execute_result"
    }
   ],
   "source": [
    "prompt = \"Describe the video\"  # @param [\"For each scene in this video, generate captions that describe the scene along with any spoken text placed in quotation marks. Place each caption into an object with the timecode of the caption in the video.\", \"Organize all scenes from this video in a table, along with timecode, a short description, a list of objects visible in the scene (with representative emojis) and an estimation of the level of excitement on a scale of 1 to 10\"] {\"allow-input\":true}\n",
    "\n",
    "video = pottery_video # @param [\"trailcam_video\", \"pottery_video\", \"post_its_video\", \"user_study_video\"] {\"type\":\"raw\",\"allow-input\":true}\n",
    "\n",
    "response = client.models.generate_content(\n",
    "    model=MODEL_ID,\n",
    "    contents=[\n",
    "        video,\n",
    "        prompt,\n",
    "    ]\n",
    ")\n",
    "\n",
    "Markdown(response.text)"
   ]
  }
 ],
 "metadata": {
  "kernelspec": {
   "display_name": "Python 3",
   "language": "python",
   "name": "python3"
  },
  "language_info": {
   "codemirror_mode": {
    "name": "ipython",
    "version": 3
   },
   "file_extension": ".py",
   "mimetype": "text/x-python",
   "name": "python",
   "nbconvert_exporter": "python",
   "pygments_lexer": "ipython3",
   "version": "3.11.5"
  }
 },
 "nbformat": 4,
 "nbformat_minor": 5
}
